{
 "cells": [
  {
   "cell_type": "code",
   "execution_count": 2,
   "metadata": {},
   "outputs": [],
   "source": [
    "import numpy as np\n",
    "from glob import glob\n",
    "np.set_printoptions(suppress=True)"
   ]
  },
  {
   "cell_type": "code",
   "execution_count": 3,
   "metadata": {},
   "outputs": [
    {
     "name": "stdout",
     "output_type": "stream",
     "text": [
      "1\n",
      "==========\n",
      "result/monocap.txt\n",
      "[2700.           35.23738637    0.98727143    8.88700353]\n",
      "[3200.           34.59974888    0.98628028    9.3718364 ]\n",
      "[2500.           36.02521883    0.98633038   12.29428681]\n",
      "[3200.           28.91169093    0.98049073   15.07520474]\n",
      "[2900.           33.69351125    0.98509321   11.40708287]\n",
      "==========\n",
      "result/monocap.txt\n",
      "[3600.           35.31348543    0.98734414    8.92727356]\n",
      "[3600.           34.601592      0.98623343    9.42816603]\n",
      "[2500.           36.02521883    0.98633038   12.29428681]\n",
      "[2700.           28.92762172    0.9804906    15.08490273]\n",
      "[3100.           33.71697949    0.98509964   11.43365728]\n"
     ]
    }
   ],
   "source": [
    "# txt_list = glob('/HOME/HOME/Caixiang/GauHuman/result/*.txt')\n",
    "txt_list = glob('result/monocap.txt')\n",
    "print(len(txt_list))\n",
    "\n",
    "info = True\n",
    "for txt_path in txt_list:\n",
    "    try:\n",
    "        print(\"==========\")\n",
    "        print(txt_path)\n",
    "        # try:\n",
    "        method_max = []\n",
    "        file = open(txt_path, 'r')\n",
    "        data = file.read()\n",
    "        data = [i for i in data.split('\\n')]\n",
    "        metrics_np = []\n",
    "        data_max = []\n",
    "        for i in data:\n",
    "            if len(i)<=1:continue\n",
    "            # if len(i)<9:\n",
    "            if \"my_\" in i:\n",
    "                if len(metrics_np)>0:\n",
    "                    data = np.array(metrics_np)\n",
    "                    row_with_max_last_column = data[data[:, -1].argmin()]\n",
    "                    if info:\n",
    "                        print(row_with_max_last_column)\n",
    "                    data_max.append(row_with_max_last_column)\n",
    "                    metrics_np = []\n",
    "            else:\n",
    "                metrics = i.split(' ')\n",
    "                for i in metrics:\n",
    "                    if len(i)<2:metrics.remove(i)\n",
    "                metrics = [float(i) for i in metrics]\n",
    "                metrics_np.append(metrics)\n",
    "\n",
    "        data = np.array(metrics_np)\n",
    "        row_with_max_last_column = data[data[:, -1].argmin()]\n",
    "        if info:\n",
    "            print(row_with_max_last_column)\n",
    "        data_max.append(row_with_max_last_column)\n",
    "\n",
    "        data_max = np.array(data_max)\n",
    "        max = np.sum(data_max,axis=0)/data_max.shape[0]\n",
    "        method_max.append(max)\n",
    "        print(max)\n",
    "    except:\n",
    "        print('jump over ',txt_path)\n",
    "        \n",
    "        \n",
    "info = True\n",
    "for txt_path in txt_list:\n",
    "    try:\n",
    "        print(\"==========\")\n",
    "        print(txt_path)\n",
    "        # try:\n",
    "        method_max = []\n",
    "        file = open(txt_path, 'r')\n",
    "        data = file.read()\n",
    "        data = [i for i in data.split('\\n')]\n",
    "        metrics_np = []\n",
    "        data_max = []\n",
    "        for i in data:\n",
    "            if len(i)<=1:continue\n",
    "            # if len(i)<9:\n",
    "            if \"my_\" in i:\n",
    "                if len(metrics_np)>0:\n",
    "                    data = np.array(metrics_np)\n",
    "                    row_with_max_last_column = data[data[:, 1].argmax()]\n",
    "                    if info:\n",
    "                        print(row_with_max_last_column)\n",
    "                    data_max.append(row_with_max_last_column)\n",
    "                    metrics_np = []\n",
    "            else:\n",
    "                metrics = i.split(' ')\n",
    "                for i in metrics:\n",
    "                    if len(i)<2:metrics.remove(i)\n",
    "                metrics = [float(i) for i in metrics]\n",
    "                metrics_np.append(metrics)\n",
    "\n",
    "        data = np.array(metrics_np)\n",
    "        row_with_max_last_column = data[data[:, 1].argmax()]\n",
    "        if info:\n",
    "            print(row_with_max_last_column)\n",
    "        data_max.append(row_with_max_last_column)\n",
    "\n",
    "        data_max = np.array(data_max)\n",
    "        max = np.sum(data_max,axis=0)/data_max.shape[0]\n",
    "        method_max.append(max)\n",
    "        print(max)\n",
    "    except:\n",
    "        print('jump over ',txt_path)\n",
    "\n",
    "\n"
   ]
  },
  {
   "cell_type": "code",
   "execution_count": 2,
   "metadata": {},
   "outputs": [
    {
     "name": "stdout",
     "output_type": "stream",
     "text": [
      "Jupyter environment detected. Enabling Open3D WebVisualizer.\n",
      "[Open3D INFO] WebRTC GUI backend enabled.\n",
      "[Open3D INFO] WebRTCWindowSystem: HTTP handshake server disabled.\n",
      "\u001b[1;33m[Open3D WARNING] Read PLY failed: unable to open file: path_to_your_ply_file.ply\u001b[0;m\n",
      "\u001b[1;33m[Open3D WARNING] GLFW Error: X11: The DISPLAY environment variable is missing\u001b[0;m\n",
      "\u001b[1;33m[Open3D WARNING] Failed to initialize GLFW\u001b[0;m\n",
      "\u001b[1;33m[Open3D WARNING] [DrawGeometries] Failed creating OpenGL window.\u001b[0;m\n"
     ]
    },
    {
     "name": "stderr",
     "output_type": "stream",
     "text": [
      "RPly: Unable to open file\n"
     ]
    },
    {
     "ename": "NameError",
     "evalue": "name 'np' is not defined",
     "output_type": "error",
     "traceback": [
      "\u001b[0;31m---------------------------------------------------------------------------\u001b[0m",
      "\u001b[0;31mNameError\u001b[0m                                 Traceback (most recent call last)",
      "Cell \u001b[0;32mIn[2], line 12\u001b[0m\n\u001b[1;32m      9\u001b[0m o3d\u001b[38;5;241m.\u001b[39mvisualization\u001b[38;5;241m.\u001b[39mdraw_geometries([pcd])  \u001b[38;5;66;03m# 这一步是可选的，用于直接在Open3D窗口中查看PLY文件\u001b[39;00m\n\u001b[1;32m     11\u001b[0m \u001b[38;5;66;03m# 将点云转换为NumPy数组\u001b[39;00m\n\u001b[0;32m---> 12\u001b[0m points \u001b[38;5;241m=\u001b[39m \u001b[43mnp\u001b[49m\u001b[38;5;241m.\u001b[39masarray(pcd\u001b[38;5;241m.\u001b[39mpoints)\n\u001b[1;32m     13\u001b[0m colors \u001b[38;5;241m=\u001b[39m np\u001b[38;5;241m.\u001b[39masarray(pcd\u001b[38;5;241m.\u001b[39mcolors)  \u001b[38;5;66;03m# 如果点云中包含颜色信息\u001b[39;00m\n\u001b[1;32m     15\u001b[0m \u001b[38;5;66;03m# 使用matplotlib创建一个散点图\u001b[39;00m\n",
      "\u001b[0;31mNameError\u001b[0m: name 'np' is not defined"
     ]
    }
   ],
   "source": [
    "import open3d as o3d\n",
    "import matplotlib.pyplot as plt\n",
    "\n",
    "# 读取PLY文件\n",
    "ply_path = 'path_to_your_ply_file.ply'  # 替换为你的PLY文件路径\n",
    "pcd = o3d.io.read_point_cloud(ply_path)\n",
    "\n",
    "# 可视化PLY文件\n",
    "o3d.visualization.draw_geometries([pcd])  # 这一步是可选的，用于直接在Open3D窗口中查看PLY文件\n",
    "\n",
    "# 将点云转换为NumPy数组\n",
    "points = np.asarray(pcd.points)\n",
    "colors = np.asarray(pcd.colors)  # 如果点云中包含颜色信息\n",
    "\n",
    "# 使用matplotlib创建一个散点图\n",
    "fig = plt.figure()\n",
    "ax = fig.add_subplot(111, projection='3d')\n",
    "ax.scatter(points[:, 0], points[:, 1], points[:, 2], c=colors)\n",
    "\n",
    "# 设置坐标轴标签\n",
    "ax.set_xlabel('X Label')\n",
    "ax.set_ylabel('Y Label')\n",
    "ax.set_zlabel('Z Label')\n",
    "\n",
    "# 保存图片\n",
    "plt.savefig('point_cloud.png')\n"
   ]
  },
  {
   "cell_type": "code",
   "execution_count": 1,
   "metadata": {},
   "outputs": [
    {
     "name": "stdout",
     "output_type": "stream",
     "text": [
      "Jupyter environment detected. Enabling Open3D WebVisualizer.\n",
      "[Open3D INFO] WebRTC GUI backend enabled.\n",
      "[Open3D INFO] WebRTCWindowSystem: HTTP handshake server disabled.\n"
     ]
    },
    {
     "data": {
      "text/plain": [
       "True"
      ]
     },
     "execution_count": 1,
     "metadata": {},
     "output_type": "execute_result"
    }
   ],
   "source": [
    "import open3d as o3d\n",
    "import numpy as np\n",
    "\n",
    "# 生成点云坐标和RGB值\n",
    "xyz = np.random.rand(100, 3)\n",
    "rgb = np.random.rand(100, 3)\n",
    "\n",
    "# 转换RGB值为float类型，并将点云坐标和颜色数据组合起来\n",
    "rgb = np.asarray(rgb, dtype=np.float32)\n",
    "xyzrgb = np.hstack((xyz, rgb))\n",
    "\n",
    "# 创建点云\n",
    "pcd = o3d.geometry.PointCloud()\n",
    "pcd.points = o3d.utility.Vector3dVector(xyz)\n",
    "pcd.colors = o3d.utility.Vector3dVector(rgb)\n",
    "\n",
    "# 绘制点云\n",
    "# o3d.visualization.draw_geometries([pcd])\n",
    "o3d.io.write_point_cloud(\"new_pc.ply\", pcd)"
   ]
  },
  {
   "cell_type": "code",
   "execution_count": 6,
   "metadata": {},
   "outputs": [
    {
     "data": {
      "text/plain": [
       "True"
      ]
     },
     "execution_count": 6,
     "metadata": {},
     "output_type": "execute_result"
    }
   ],
   "source": [
    "# -*- coding:utf-8 -*-\n",
    " \n",
    "import open3d as o3d\n",
    " \n",
    "# 读取点云\n",
    "pcd = o3d.io.read_point_cloud(\n",
    "    \"/HOME/HOME/Caixiang/GauHuman/output/zju_mocap_refine/my_377_knn5/point_cloud/iteration_2200/point_cloud.ply\")\n",
    "# 点云上色\n",
    "pcd.paint_uniform_color([0, 0, 1.0])\n",
    "# 可视化\n",
    "# o3d.visualization.draw_geometries([pcd],\n",
    "#                                   zoom=0.7,\n",
    "#                                   front=[0.5439, -0.2333, -0.8060],\n",
    "#                                   lookat=[2.4615, 2.1331, 1.338],\n",
    "#                                   up=[-0.1781, -0.9708, 0.1608])\n",
    "o3d.io.write_point_cloud(\"new_pc.ply\", pcd)"
   ]
  },
  {
   "cell_type": "code",
   "execution_count": null,
   "metadata": {},
   "outputs": [],
   "source": [
    "point_cloud.points = o3d.utility.Vector3dVector(lion_pc)\n",
    "        point_cloud.colors = o3d.utility.Vector3dVector(rgb)\n",
    "\n",
    "        o3d.io.write_point_cloud(\"./generate2/new_pc.ply\", point_cloud)"
   ]
  }
 ],
 "metadata": {
  "kernelspec": {
   "display_name": "GS2",
   "language": "python",
   "name": "python3"
  },
  "language_info": {
   "codemirror_mode": {
    "name": "ipython",
    "version": 3
   },
   "file_extension": ".py",
   "mimetype": "text/x-python",
   "name": "python",
   "nbconvert_exporter": "python",
   "pygments_lexer": "ipython3",
   "version": "3.8.18"
  }
 },
 "nbformat": 4,
 "nbformat_minor": 2
}
