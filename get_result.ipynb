{
 "cells": [
  {
   "cell_type": "code",
   "execution_count": 14,
   "metadata": {},
   "outputs": [],
   "source": [
    "import numpy as np\n",
    "from glob import glob\n",
    "\n",
    "path = '/HOME/HOME/Caixiang/GauHuman/result/*.txt'"
   ]
  },
  {
   "cell_type": "code",
   "execution_count": 127,
   "metadata": {},
   "outputs": [
    {
     "name": "stdout",
     "output_type": "stream",
     "text": [
      "7\n"
     ]
    },
    {
     "data": {
      "text/plain": [
       "['/HOME/HOME/Caixiang/GauHuman/result/lr5_ones.txt',\n",
       " '/HOME/HOME/Caixiang/GauHuman/result/temp.txt',\n",
       " '/HOME/HOME/Caixiang/GauHuman/result/Rmode_24.txt',\n",
       " '/HOME/HOME/Caixiang/GauHuman/result/densify_until_iter_2000.txt',\n",
       " '/HOME/HOME/Caixiang/GauHuman/result/lr5.txt',\n",
       " '/HOME/HOME/Caixiang/GauHuman/result/lr5_bweights.txt',\n",
       " '/HOME/HOME/Caixiang/GauHuman/result/lr5_loss001_01.txt']"
      ]
     },
     "execution_count": 127,
     "metadata": {},
     "output_type": "execute_result"
    }
   ],
   "source": [
    "txt_list = glob('/HOME/HOME/Caixiang/GauHuman/result/*.txt')\n",
    "print(len(txt_list))\n",
    "# txt_list.remove('/HOME/HOME/Caixiang/GauHuman/result/Rmode_24.txt')\n",
    "txt_list"
   ]
  },
  {
   "cell_type": "code",
   "execution_count": 129,
   "metadata": {},
   "outputs": [
    {
     "name": "stdout",
     "output_type": "stream",
     "text": [
      "==========\n",
      "/HOME/HOME/Caixiang/GauHuman/result/lr5_ones.txt\n",
      "[31.1974484   0.9638245  28.85302788]\n",
      "==========\n",
      "/HOME/HOME/Caixiang/GauHuman/result/temp.txt\n",
      "jump over  /HOME/HOME/Caixiang/GauHuman/result/temp.txt\n",
      "==========\n",
      "/HOME/HOME/Caixiang/GauHuman/result/Rmode_24.txt\n",
      "jump over  /HOME/HOME/Caixiang/GauHuman/result/Rmode_24.txt\n",
      "==========\n",
      "/HOME/HOME/Caixiang/GauHuman/result/densify_until_iter_2000.txt\n",
      "jump over  /HOME/HOME/Caixiang/GauHuman/result/densify_until_iter_2000.txt\n",
      "==========\n",
      "/HOME/HOME/Caixiang/GauHuman/result/lr5.txt\n",
      "[31.18079014  0.96368552 28.90934938]\n",
      "==========\n",
      "/HOME/HOME/Caixiang/GauHuman/result/lr5_bweights.txt\n",
      "[31.2037779   0.96387972 28.83511177]\n",
      "==========\n",
      "/HOME/HOME/Caixiang/GauHuman/result/lr5_loss001_01.txt\n",
      "[29.74990205  0.95572237 38.90656146]\n"
     ]
    }
   ],
   "source": [
    "info = False\n",
    "for txt_path in txt_list:\n",
    "    print(\"==========\")\n",
    "    print(txt_path)\n",
    "    try:\n",
    "        method_max = []\n",
    "        file = open(txt_path, 'r')\n",
    "        data = file.read()\n",
    "        data = [i for i in data.split('\\n')]\n",
    "        metrics_np = []\n",
    "        data_max = []\n",
    "        for i in data:\n",
    "            if len(i)<=1:continue\n",
    "            if len(i)<6:\n",
    "                if len(metrics_np)>0:\n",
    "                    data = np.array(metrics_np)\n",
    "                    row_with_max_last_column = data[data[:, -1].argmin()]\n",
    "                    if info:\n",
    "                        print(row_with_max_last_column)\n",
    "                    data_max.append(row_with_max_last_column)\n",
    "                    metrics_np = []\n",
    "            else:\n",
    "                iter = i[6:10]\n",
    "                index = i.find('LPIPS')+len('LPIPS')\n",
    "                metrics = i[index:].split(' ')\n",
    "                for i in metrics:\n",
    "                    if len(i)<2:metrics.remove(i)\n",
    "                metrics = [float(i) for i in metrics]\n",
    "                metrics_np.append(metrics)\n",
    "\n",
    "\n",
    "        data = np.array(metrics_np)\n",
    "        row_with_max_last_column = data[data[:, -1].argmin()]\n",
    "        if info:\n",
    "            print(row_with_max_last_column)\n",
    "        data_max.append(row_with_max_last_column)\n",
    "\n",
    "        data_max = np.array(data_max)\n",
    "        max = np.sum(data_max,axis=0)/data_max.shape[0]\n",
    "        method_max.append(max)\n",
    "        print(max)\n",
    "    except:\n",
    "        print('jump over ',txt_path)"
   ]
  },
  {
   "cell_type": "code",
   "execution_count": null,
   "metadata": {},
   "outputs": [],
   "source": []
  },
  {
   "cell_type": "code",
   "execution_count": null,
   "metadata": {},
   "outputs": [],
   "source": [
    "import open3d as o3d\n",
    "import matplotlib.pyplot as plt\n",
    "\n",
    "# 读取PLY文件\n",
    "ply_path = 'path_to_your_ply_file.ply'  # 替换为你的PLY文件路径\n",
    "pcd = o3d.io.read_point_cloud(ply_path)\n",
    "\n",
    "# 可视化PLY文件\n",
    "o3d.visualization.draw_geometries([pcd])  # 这一步是可选的，用于直接在Open3D窗口中查看PLY文件\n",
    "\n",
    "# 将点云转换为NumPy数组\n",
    "points = np.asarray(pcd.points)\n",
    "colors = np.asarray(pcd.colors)  # 如果点云中包含颜色信息\n",
    "\n",
    "# 使用matplotlib创建一个散点图\n",
    "fig = plt.figure()\n",
    "ax = fig.add_subplot(111, projection='3d')\n",
    "ax.scatter(points[:, 0], points[:, 1], points[:, 2], c=colors)\n",
    "\n",
    "# 设置坐标轴标签\n",
    "ax.set_xlabel('X Label')\n",
    "ax.set_ylabel('Y Label')\n",
    "ax.set_zlabel('Z Label')\n",
    "\n",
    "# 保存图片\n",
    "plt.savefig('point_cloud.png')\n"
   ]
  }
 ],
 "metadata": {
  "kernelspec": {
   "display_name": "GS2",
   "language": "python",
   "name": "python3"
  },
  "language_info": {
   "codemirror_mode": {
    "name": "ipython",
    "version": 3
   },
   "file_extension": ".py",
   "mimetype": "text/x-python",
   "name": "python",
   "nbconvert_exporter": "python",
   "pygments_lexer": "ipython3",
   "version": "3.8.13"
  }
 },
 "nbformat": 4,
 "nbformat_minor": 2
}
